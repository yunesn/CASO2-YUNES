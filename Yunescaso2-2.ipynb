{
  "nbformat": 4,
  "nbformat_minor": 0,
  "metadata": {
    "colab": {
      "provenance": []
    },
    "kernelspec": {
      "name": "python3",
      "display_name": "Python 3"
    },
    "language_info": {
      "name": "python"
    }
  },
  "cells": [
    {
      "cell_type": "markdown",
      "source": [
        "AMBIENTE"
      ],
      "metadata": {
        "id": "XAFxs3AQOt8K"
      }
    },
    {
      "cell_type": "code",
      "execution_count": null,
      "metadata": {
        "id": "P8qwgENFOkTB"
      },
      "outputs": [],
      "source": [
        "%%bash\n",
        "# Instalar miniconda e mamba (padrão já visto em aula)\n",
        "wget --quiet https://github.com/conda-forge/miniforge/releases/latest/download/Miniforge3-Linux-x86_64.sh\n",
        "bash Miniforge3-Linux-x86_64.sh -b -p /usr/local -u\n",
        "mamba init\n",
        "mamba config set auto_activate_base true\n",
        "mamba shell init --shell bash --root-prefix=~/.local/share/mamba\n",
        "rm Miniforge3-Linux-x86_64.sh"
      ]
    },
    {
      "cell_type": "code",
      "source": [
        "%%bash\n",
        "# Instalar os software que vamos usar nesta prática\n",
        "mamba install -c bioconda -c conda-forge fastqc bwa gatk4 cutadapt samtools bedtools ensembl-vep=115 -y"
      ],
      "metadata": {
        "id": "Ecbbcmx8PDTv"
      },
      "execution_count": null,
      "outputs": []
    },
    {
      "cell_type": "code",
      "source": [
        "%%bash\n",
        "# Testa se um deles foi instalado corretamente (deve printar o manual de uso do programa)\n",
        "vep --help"
      ],
      "metadata": {
        "id": "BZVXyktFPHbe"
      },
      "execution_count": null,
      "outputs": []
    },
    {
      "cell_type": "code",
      "source": [
        "%%bash\n",
        "# Criar as pastas para organizar os arquivos que serão gerados\n",
        "mkdir -p raw fastqc cutadapt bwa gatk vep reference"
      ],
      "metadata": {
        "id": "sNu-hTooPP0s"
      },
      "execution_count": null,
      "outputs": []
    },
    {
      "cell_type": "code",
      "source": [
        "%%bash\n",
        "# Mover arquivos para as suas respectivas pastas e descompactar fasta.gz\n",
        "mv *.fastq.gz raw/\n",
        "gunzip -c Chr12-reference.fasta.gz > reference/Chr12-reference.fasta\n",
        "rm -rf Chr12-reference.fasta.gz sample_data/"
      ],
      "metadata": {
        "id": "6K0c1IygPSB2"
      },
      "execution_count": null,
      "outputs": []
    },
    {
      "cell_type": "markdown",
      "source": [
        "Controle de Qualidade"
      ],
      "metadata": {
        "id": "RFGUE6MzPWMl"
      }
    },
    {
      "cell_type": "code",
      "source": [],
      "metadata": {
        "id": "horJ80iDaAVc"
      },
      "execution_count": null,
      "outputs": []
    },
    {
      "cell_type": "code",
      "source": [
        "%%bash\n",
        "# Gerar o relatório da qualidade dos reads de sequenciamento\n",
        "fastqc -o fastqc/ /content/raw/caso2-sindrome-metabolica_R1.fastq.gz /content/raw/caso2-sindrome-metabolica_R2.fastq.gz"
      ],
      "metadata": {
        "id": "XXmVoGbSPaoO"
      },
      "execution_count": null,
      "outputs": []
    },
    {
      "cell_type": "code",
      "source": [
        "%%bash\n",
        "# Filtrar sequências muito pequenas e cortar as pontas\n",
        "cutadapt \\\n",
        "  -u 5 -U 5 \\\n",
        "  -u -5 -U -5 \\\n",
        "  -m 90 \\\n",
        "  -o cutadapt/caso2-sindrome-metabolica-trimmed_R1.fastq.gz \\\n",
        "  -p cutadapt/caso2-sindrome-metabolica-trimmed_R2.fastq.gz \\\n",
        "  raw/caso2-sindrome-metabolica_R1.fastq.gz \\\n",
        "  raw/caso2-sindrome-metabolica_R2.fastq.gz"
      ],
      "metadata": {
        "id": "5NoQ0uIBI0FK"
      },
      "execution_count": null,
      "outputs": []
    },
    {
      "cell_type": "markdown",
      "source": [
        "Mapeamento com a referência do genoma humano"
      ],
      "metadata": {
        "id": "vgodjc7top3r"
      }
    },
    {
      "cell_type": "code",
      "source": [
        "%%bash\n",
        "# Indexar o genoma humano de referência para realizar o mapeamento e posterior remoção de contaminante (cerca de 3 min)\n",
        "samtools faidx reference/Chr12-reference.fasta\n",
        "bwa index reference/Chr12-reference.fasta"
      ],
      "metadata": {
        "id": "uWtNI66Rorbp"
      },
      "execution_count": null,
      "outputs": []
    },
    {
      "cell_type": "code",
      "source": [
        "%%bash\n",
        "# Proceder com o alinhamento contra o genoma humano (cerca de 2 min)\n",
        "bwa mem reference/Chr12-reference.fasta \\\n",
        "  -R '@RG\\tID:sample1\\tSM:sample1\\tPL:ILLUMINA\\tLB:lib1\\tPU:unit1' \\\n",
        "  cutadapt/caso2-sindrome-metabolica-trimmed_R1.fastq.gz \\\n",
        "  cutadapt/caso2-sindrome-metabolica-trimmed_R2.fastq.gz \\\n",
        "  | samtools sort -o bwa/caso2-sindrome-metabolica.bam -T sample1 -@ 2"
      ],
      "metadata": {
        "id": "ynU3Zw8XpwFb"
      },
      "execution_count": null,
      "outputs": []
    },
    {
      "cell_type": "code",
      "source": [
        "%%bash\n",
        "# Indexar o bam para gerar o bai e visualizar no IGV\n",
        "samtools index bwa/caso2-sindrome-metabolica.bam"
      ],
      "metadata": {
        "id": "RiLEgN0iqiSW"
      },
      "execution_count": null,
      "outputs": []
    },
    {
      "cell_type": "markdown",
      "source": [
        "Chamada de Variantes"
      ],
      "metadata": {
        "id": "Gcv7-M0S8B_I"
      }
    },
    {
      "cell_type": "code",
      "source": [
        "%%bash\n",
        "# Indexar a referência e BAM para chamada de variantes com GATK\n",
        "samtools dict reference/Chr12-reference.fasta > reference/Chr12-reference.dict\n",
        "samtools index bwa/caso2-sindrome-metabolica.bam"
      ],
      "metadata": {
        "id": "zrZibCLy8Co8"
      },
      "execution_count": null,
      "outputs": []
    },
    {
      "cell_type": "code",
      "source": [
        "%%bash\n",
        "# Chamada de variantes\n",
        "gatk HaplotypeCaller \\\n",
        "  -R reference/Chr12-reference.fasta \\\n",
        "  -I bwa/caso2-sindrome-metabolica.bam \\\n",
        "  -O gatk/caso2-sindrome-metabolica_variants.vcf"
      ],
      "metadata": {
        "id": "TsjGGb8P8wdS"
      },
      "execution_count": null,
      "outputs": []
    },
    {
      "cell_type": "markdown",
      "source": [
        "Anotação de Variantes"
      ],
      "metadata": {
        "id": "ASUOUmy0-zoc"
      }
    },
    {
      "cell_type": "code",
      "source": [
        "%%bash\n",
        "# script oficial baixa cache do genoma humano (grande volume de dados, demora cerca de 60 min)\n",
        "vep_install -a cf -s homo_sapiens -y GRCh38 --NO_UPDATE"
      ],
      "metadata": {
        "id": "mVCQanXe-4Qz"
      },
      "execution_count": null,
      "outputs": []
    },
    {
      "cell_type": "code",
      "source": [
        "%%bash\n",
        "# Index VCF files para anotação\n",
        "bgzip gatk/caso2-sindrome-metabolica_variants.vcf\n",
        "tabix -p vcf gatk/caso2-sindrome-metabolica_variants.vcf.gz"
      ],
      "metadata": {
        "id": "lWFsZZOg_KFp"
      },
      "execution_count": null,
      "outputs": []
    },
    {
      "cell_type": "code",
      "source": [
        "%%bash\n",
        "# Anotação de variantes a nível de proteína\n",
        "vep -i gatk/caso2-sindrome-metabolica_variants.vcf.gz \\\n",
        "    --output_file vep/caso2-sindrome-metabolica_variants.vep.tsv \\\n",
        "    --tab --force_overwrite \\\n",
        "    --offline --cache --dir_cache ~/.vep \\\n",
        "    --assembly GRCh38 \\\n",
        "    --symbol --hgvs --canonical --af_1kg --max_af \\\n",
        "    --everything --pick\\\n",
        "    --stats_file vep/caso2-sindrome-metabolica_variants.vep.html"
      ],
      "metadata": {
        "id": "wqs_PrJ3Bdgd"
      },
      "execution_count": null,
      "outputs": []
    },
    {
      "cell_type": "markdown",
      "source": [
        "RESPOSTA: A partir dos arquivos .tsv e .html gerados pelo VEP, foi possível identificar a presença da predição probably damaging e localizar a variante correspondente NM_000277.3(PAH):c.734T>C (p.Val245Ala), uma mutação missense. Em seguida, utilizei o banco ClinVar para verificar a relevância clínica da variante, confirmando sua associação com a Fenilcetonúria (PKU).\n",
        "O gene PAH é conhecido por estar relacionado a um fenótipo autossômico recessivo, e a variante analisada é classificada como patogênica, corroborando sua relação direta com o desenvolvimento da PKU."
      ],
      "metadata": {
        "id": "DjL9BpzTkEfm"
      }
    }
  ]
}